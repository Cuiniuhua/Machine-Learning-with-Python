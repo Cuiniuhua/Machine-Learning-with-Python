{
 "cells": [
  {
   "cell_type": "code",
   "execution_count": 33,
   "metadata": {
    "collapsed": true
   },
   "outputs": [],
   "source": [
    "import pandas as pd\n",
    "import numpy as np\n",
    "\n",
    "from sklearn.svm import LinearSVC\n",
    "from sklearn.linear_model import SGDClassifier, LogisticRegression\n",
    "\n",
    "from sklearn import metrics\n",
    "from sklearn.cross_validation import StratifiedKFold, cross_val_score\n",
    "\n",
    "import matplotlib.pyplot as plt\n",
    "%matplotlib inline"
   ]
  },
  {
   "cell_type": "code",
   "execution_count": 34,
   "metadata": {
    "collapsed": false
   },
   "outputs": [],
   "source": [
    "data_train = pd.read_table('training.txt', sep = ' ', header = None, names = ['doc_id','feature_index','tf-idf'])"
   ]
  },
  {
   "cell_type": "code",
   "execution_count": 35,
   "metadata": {
    "collapsed": false
   },
   "outputs": [
    {
     "data": {
      "text/plain": [
       "1842"
      ]
     },
     "execution_count": 35,
     "metadata": {},
     "output_type": "execute_result"
    }
   ],
   "source": [
    "len_data_train = data_train['doc_id'].max()\n",
    "len_data_train"
   ]
  },
  {
   "cell_type": "code",
   "execution_count": 36,
   "metadata": {
    "collapsed": false
   },
   "outputs": [],
   "source": [
    "data_test = pd.read_table('testing.txt', sep = ' ', header = None, names = ['doc_id','feature_index','tf-idf'])"
   ]
  },
  {
   "cell_type": "code",
   "execution_count": 37,
   "metadata": {
    "collapsed": false
   },
   "outputs": [],
   "source": [
    "data_test['doc_id'] = data_test['doc_id'].map(lambda x : x + len_data_train)"
   ]
  },
  {
   "cell_type": "code",
   "execution_count": 38,
   "metadata": {
    "collapsed": false
   },
   "outputs": [],
   "source": [
    "merged_train_test_data = data_train.copy()\n",
    "merged_train_test_data = merged_train_test_data.append(data_test.copy(), ignore_index=True)\n",
    "#merged_train_test_data # max(merged_train_test_data['doc_id']) = 2794 (1842 + 952)"
   ]
  },
  {
   "cell_type": "code",
   "execution_count": 39,
   "metadata": {
    "collapsed": false
   },
   "outputs": [],
   "source": [
    "merged_doc_feature_train_test = merged_train_test_data.pivot('doc_id', columns = 'feature_index', values = 'tf-idf')\n",
    "merged_doc_feature_train_test = merged_doc_feature_train_test.fillna(0.0)\n",
    "#merged_doc_feature_train_test"
   ]
  },
  {
   "cell_type": "code",
   "execution_count": 40,
   "metadata": {
    "collapsed": false
   },
   "outputs": [],
   "source": [
    "doc_feature_df_train = merged_doc_feature_train_test[0:len_data_train]\n",
    "#doc_feature_df_train"
   ]
  },
  {
   "cell_type": "code",
   "execution_count": 41,
   "metadata": {
    "collapsed": false
   },
   "outputs": [],
   "source": [
    "doc_feature_df_test = merged_doc_feature_train_test[len_data_train:]\n",
    "#doc_feature_df_test"
   ]
  },
  {
   "cell_type": "code",
   "execution_count": 42,
   "metadata": {
    "collapsed": true
   },
   "outputs": [],
   "source": [
    "doc_class_df_train = pd.read_table('label_training.txt', sep = ' ', header = None, names = ['label'])"
   ]
  },
  {
   "cell_type": "code",
   "execution_count": 43,
   "metadata": {
    "collapsed": true
   },
   "outputs": [],
   "source": [
    "skf = StratifiedKFold(doc_class_df_train.label, n_folds=10, random_state=123)"
   ]
  },
  {
   "cell_type": "code",
   "execution_count": 44,
   "metadata": {
    "collapsed": false
   },
   "outputs": [],
   "source": [
    "def benchmark(clf, clf_name):\n",
    "    print('_' * 80)\n",
    "    print(\"Training: \")\n",
    "    print(clf_name)\n",
    "    \n",
    "    scores = cross_val_score(estimator=clf, \n",
    "                             X=doc_feature_df_train, \n",
    "                             y=doc_class_df_train.label,\n",
    "                             cv=skf,\n",
    "                             scoring='accuracy')\n",
    "    print('Accuracy: %0.6f (+/- %0.6f) [%s]' %(scores.mean(), scores.std(), clf))"
   ]
  },
  {
   "cell_type": "code",
   "execution_count": 45,
   "metadata": {
    "collapsed": false
   },
   "outputs": [
    {
     "name": "stdout",
     "output_type": "stream",
     "text": [
      "________________________________________________________________________________\n",
      "Training: \n",
      "LinearSVC with L1-based feature selection\n",
      "Accuracy: 0.974521 (+/- 0.012325) [LinearSVC(C=1.0, class_weight=None, dual=False, fit_intercept=True,\n",
      "     intercept_scaling=1, loss='squared_hinge', max_iter=1000,\n",
      "     multi_class='ovr', penalty='l1', random_state=None, tol=0.001,\n",
      "     verbose=0)]\n"
     ]
    }
   ],
   "source": [
    "svm = LinearSVC(loss='squared_hinge', penalty='l1', dual=False, tol=1e-3)\n",
    "benchmark(svm, 'LinearSVC with L1-based feature selection')"
   ]
  },
  {
   "cell_type": "code",
   "execution_count": 46,
   "metadata": {
    "collapsed": false
   },
   "outputs": [
    {
     "name": "stdout",
     "output_type": "stream",
     "text": [
      "________________________________________________________________________________\n",
      "Training: \n",
      "SGD Classifier with Elastic-Net penalty\n",
      "Accuracy: 0.822541 (+/- 0.091048) [SGDClassifier(alpha=0.0001, average=False, class_weight=None, epsilon=0.1,\n",
      "       eta0=0.0, fit_intercept=True, l1_ratio=0.15,\n",
      "       learning_rate='optimal', loss='hinge', n_iter=50, n_jobs=1,\n",
      "       penalty='elasticnet', power_t=0.5, random_state=None, shuffle=True,\n",
      "       verbose=0, warm_start=False)]\n"
     ]
    }
   ],
   "source": [
    "sgd = SGDClassifier(alpha=.0001, n_iter=50, penalty=\"elasticnet\")\n",
    "benchmark(sgd, 'SGD Classifier with Elastic-Net penalty')"
   ]
  },
  {
   "cell_type": "code",
   "execution_count": 50,
   "metadata": {
    "collapsed": false
   },
   "outputs": [
    {
     "name": "stdout",
     "output_type": "stream",
     "text": [
      "________________________________________________________________________________\n",
      "Training: \n",
      "Logistic Regression\n",
      "Accuracy: 0.986454 (+/- 0.007329) [LogisticRegression(C=1.0, class_weight=None, dual=False, fit_intercept=True,\n",
      "          intercept_scaling=1, max_iter=100, multi_class='ovr', n_jobs=1,\n",
      "          penalty='l2', random_state=None, solver='liblinear', tol=0.0001,\n",
      "          verbose=0, warm_start=False)]\n"
     ]
    }
   ],
   "source": [
    "log = LogisticRegression()\n",
    "benchmark(log, 'Logistic Regression')"
   ]
  },
  {
   "cell_type": "code",
   "execution_count": 47,
   "metadata": {
    "collapsed": false
   },
   "outputs": [],
   "source": [
    "clf_final = LinearSVC(loss='squared_hinge', penalty='l1', dual=False, tol=1e-3)\n",
    "clf_final.fit(doc_feature_df_train, doc_class_df_train.label)\n",
    "y_test_pred = clf_final.predict(doc_feature_df_test)"
   ]
  },
  {
   "cell_type": "code",
   "execution_count": 49,
   "metadata": {
    "collapsed": true
   },
   "outputs": [],
   "source": [
    "np.savetxt('720004946-2.txt', y_test_pred, delimiter='\\n', fmt='%d')"
   ]
  }
 ],
 "metadata": {
  "kernelspec": {
   "display_name": "Python 3",
   "language": "python",
   "name": "python3"
  },
  "language_info": {
   "codemirror_mode": {
    "name": "ipython",
    "version": 3
   },
   "file_extension": ".py",
   "mimetype": "text/x-python",
   "name": "python",
   "nbconvert_exporter": "python",
   "pygments_lexer": "ipython3",
   "version": "3.4.3"
  }
 },
 "nbformat": 4,
 "nbformat_minor": 0
}
