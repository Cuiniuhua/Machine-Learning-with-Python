{
 "cells": [
  {
   "cell_type": "markdown",
   "metadata": {},
   "source": [
    "## MNIST Digit Classification Evaluating Multiple Classifiers"
   ]
  },
  {
   "cell_type": "code",
   "execution_count": 2,
   "metadata": {
    "collapsed": false
   },
   "outputs": [],
   "source": [
    "import numpy as np\n",
    "from keras.datasets import mnist\n",
    "\n",
    "from sklearn.utils import shuffle                                                                        \n",
    "from sklearn import metrics                                                                                                  \n",
    "                                                                                                  \n",
    "from sklearn.tree import DecisionTreeClassifier                                                       \n",
    "from sklearn.ensemble import RandomForestClassifier, BaggingClassifier, AdaBoostClassifier\n",
    "\n",
    "from sklearn.naive_bayes import GaussianNB\n",
    "from sklearn.svm import LinearSVC                                                                              \n",
    "from sklearn.linear_model import LogisticRegression                                            \n",
    "\n",
    "from sklearn.multiclass import OneVsRestClassifier, OneVsOneClassifier                                           \n",
    "\n",
    "import matplotlib.pyplot as plt \n",
    "%matplotlib inline\n",
    "\n",
    "import seaborn as sns\n",
    "sns.set(style='whitegrid', context='notebook')"
   ]
  },
  {
   "cell_type": "code",
   "execution_count": 3,
   "metadata": {
    "collapsed": true
   },
   "outputs": [],
   "source": [
    "# Load Dataset of 60,000 28x28 grayscale images of the 10 digits, along with a test set of 10,000 images.\n",
    "(X_train, y_train), (X_test, y_test) = mnist.load_data()\n",
    "\n",
    "# reshape the data into 28 x 28 = 784 columns\n",
    "X_train = X_train.reshape(60000, 784)\n",
    "X_test = X_test.reshape(10000, 784)\n",
    "\n",
    "#randomly shuffle the data\n",
    "X_train, y_train = shuffle(X_train, y_train)\n",
    "X_test, y_test = shuffle(X_test, y_test)"
   ]
  },
  {
   "cell_type": "code",
   "execution_count": 4,
   "metadata": {
    "collapsed": false
   },
   "outputs": [
    {
     "name": "stdout",
     "output_type": "stream",
     "text": [
      "(10000, 784)\n"
     ]
    }
   ],
   "source": [
    "print(X_test.shape)"
   ]
  },
  {
   "cell_type": "code",
   "execution_count": 5,
   "metadata": {
    "collapsed": false
   },
   "outputs": [],
   "source": [
    "#The images are in grey scale where each number is between 0 to 255. Normalize them so that the values are between 0 and 1.\n",
    "X_train_scaled = X_train / 255.0                                                                        \n",
    "X_test_scaled = X_test / 255.0"
   ]
  },
  {
   "cell_type": "code",
   "execution_count": 6,
   "metadata": {
    "collapsed": false
   },
   "outputs": [
    {
     "name": "stdout",
     "output_type": "stream",
     "text": [
      "RandomForestClassifier(bootstrap=True, class_weight=None, criterion='gini',\n",
      "            max_depth=None, max_features='auto', max_leaf_nodes=None,\n",
      "            min_samples_leaf=1, min_samples_split=2,\n",
      "            min_weight_fraction_leaf=0.0, n_estimators=10, n_jobs=1,\n",
      "            oob_score=False, random_state=0, verbose=0, warm_start=False)\n",
      "RandomForestClassifier Testing accuracy: 94.72%\n"
     ]
    }
   ],
   "source": [
    "# Create a multi class classifier based on random forest with default parameters.\n",
    "rnf_model = RandomForestClassifier(random_state = 0) \n",
    "rnf_model.fit(X_train_scaled, y_train)\n",
    "\n",
    "print(rnf_model)\n",
    "\n",
    "y_pred_rnf = rnf_model.predict(X_test_scaled)\n",
    "y_pred_proba_rnf = rnf_model.predict_proba(X_test_scaled)\n",
    "\n",
    "test_acc = metrics.accuracy_score(y_test, y_pred_rnf)\n",
    "print('RandomForestClassifier Testing accuracy: %.2f%%' % (test_acc * 100))"
   ]
  },
  {
   "cell_type": "code",
   "execution_count": 7,
   "metadata": {
    "collapsed": false
   },
   "outputs": [
    {
     "name": "stdout",
     "output_type": "stream",
     "text": [
      "DecisionTreeClassifier(class_weight=None, criterion='gini', max_depth=None,\n",
      "            max_features=None, max_leaf_nodes=None, min_samples_leaf=1,\n",
      "            min_samples_split=2, min_weight_fraction_leaf=0.0,\n",
      "            presort=False, random_state=0, splitter='best')\n",
      "DecisionTreeClassifier Testing accuracy: 87.81%\n"
     ]
    }
   ],
   "source": [
    "#Create a Decision tree with DEFAULT parameters and train it on **scaled** training data and test it on scaled testing data\n",
    "tree_model = DecisionTreeClassifier(random_state = 0) \n",
    "tree_model.fit(X_train_scaled, y_train)\n",
    "\n",
    "print(tree_model)\n",
    "\n",
    "y_pred_tree = tree_model.predict(X_test_scaled)\n",
    "y_pred_proba_tree = tree_model.predict_proba(X_test_scaled)\n",
    "\n",
    "test_acc = metrics.accuracy_score(y_test, y_pred_tree)\n",
    "print('DecisionTreeClassifier Testing accuracy: %.2f%%' % (test_acc * 100))"
   ]
  },
  {
   "cell_type": "code",
   "execution_count": 8,
   "metadata": {
    "collapsed": false
   },
   "outputs": [
    {
     "name": "stdout",
     "output_type": "stream",
     "text": [
      "OneVsRestClassifier(estimator=LinearSVC(C=1.0, class_weight=None, dual=True, fit_intercept=True,\n",
      "     intercept_scaling=1, loss='squared_hinge', max_iter=1000,\n",
      "     multi_class='ovr', penalty='l2', random_state=0, tol=0.0001,\n",
      "     verbose=0),\n",
      "          n_jobs=1)\n",
      "SVM based OneVsRestClassifier Testing accuracy: 91.83%\n"
     ]
    }
   ],
   "source": [
    "#Create a SVM based OneVsRestClassifier\n",
    "ovr_linear_svc_svm_model  = OneVsRestClassifier(LinearSVC(random_state = 0)) \n",
    "ovr_linear_svc_svm_model.fit(X_train_scaled, y_train)\n",
    "\n",
    "print(ovr_linear_svc_svm_model)   \n",
    "\n",
    "y_pred_ovr_linear_svc_svm = ovr_linear_svc_svm_model.predict(X_test_scaled)\n",
    "#y_pred_proba_ovr_linear_svc_svm = ovr_linear_svc_svm_model.predict_proba(X_test_scaled)\n",
    "\n",
    "test_acc = metrics.accuracy_score(y_test, y_pred_ovr_linear_svc_svm)\n",
    "print('SVM based OneVsRestClassifier Testing accuracy: %.2f%%' % (test_acc * 100))"
   ]
  },
  {
   "cell_type": "code",
   "execution_count": 11,
   "metadata": {
    "collapsed": false
   },
   "outputs": [
    {
     "name": "stdout",
     "output_type": "stream",
     "text": [
      "OneVsOneClassifier(estimator=LinearSVC(C=1.0, class_weight=None, dual=True, fit_intercept=True,\n",
      "     intercept_scaling=1, loss='squared_hinge', max_iter=1000,\n",
      "     multi_class='ovr', penalty='l2', random_state=0, tol=0.0001,\n",
      "     verbose=0),\n",
      "          n_jobs=1)\n",
      "SVM based OneVsOneClassifier Testing accuracy: 93.70%\n"
     ]
    }
   ],
   "source": [
    "#Create a SVM based OneVsOneClassifier\n",
    "ovo_linear_svc_svm_model  = OneVsOneClassifier(LinearSVC(random_state = 0)) \n",
    "ovo_linear_svc_svm_model.fit(X_train_scaled, y_train)\n",
    "\n",
    "print(ovo_linear_svc_svm_model)   \n",
    "\n",
    "y_pred_ovo_linear_svc_svm = ovo_linear_svc_svm_model.predict(X_test_scaled)\n",
    "#y_pred_proba_ovo_linear_svc_svm = ovo_linear_svc_svm_model.predict_proba(X_test_scaled)\n",
    "\n",
    "test_acc = metrics.accuracy_score(y_test, y_pred_ovo_linear_svc_svm)\n",
    "print('SVM based OneVsOneClassifier Testing accuracy: %.2f%%' % (test_acc * 100))"
   ]
  },
  {
   "cell_type": "code",
   "execution_count": 12,
   "metadata": {
    "collapsed": false
   },
   "outputs": [
    {
     "name": "stdout",
     "output_type": "stream",
     "text": [
      "GaussianNB()\n",
      "GaussianNB Testing accuracy: 55.58%\n"
     ]
    }
   ],
   "source": [
    "#Create a Gaussian NB\n",
    "nb_gaussian_model = GaussianNB()\n",
    "nb_gaussian_model.fit(X_train_scaled, y_train)\n",
    "\n",
    "print(nb_gaussian_model) \n",
    "\n",
    "y_pred_gaussian_nb = nb_gaussian_model.predict(X_test_scaled)\n",
    "y_pred_proba_gaussian_nb = nb_gaussian_model.predict_proba(X_test_scaled)\n",
    "\n",
    "test_acc = metrics.accuracy_score(y_test, y_pred_gaussian_nb)\n",
    "print('GaussianNB Testing accuracy: %.2f%%' % (test_acc * 100))"
   ]
  },
  {
   "cell_type": "code",
   "execution_count": 13,
   "metadata": {
    "collapsed": false
   },
   "outputs": [
    {
     "name": "stdout",
     "output_type": "stream",
     "text": [
      "LogisticRegression(C=1.0, class_weight=None, dual=False, fit_intercept=True,\n",
      "          intercept_scaling=1, max_iter=100, multi_class='multinomial',\n",
      "          n_jobs=1, penalty='l2', random_state=0, solver='lbfgs',\n",
      "          tol=0.0001, verbose=0, warm_start=False)\n",
      "LogisticRegression Testing accuracy: 92.57%\n"
     ]
    }
   ],
   "source": [
    "# Create a Logistic Regression model with default parameters.\n",
    "lr_model = LogisticRegression(solver='lbfgs', multi_class='multinomial', random_state = 0)      \n",
    "lr_model.fit(X_train_scaled, y_train)\n",
    "\n",
    "print(lr_model)\n",
    "\n",
    "y_pred_lr = lr_model.predict(X_test_scaled)\n",
    "y_pred_proba_lr = lr_model.predict_proba(X_test_scaled)\n",
    "\n",
    "test_acc = metrics.accuracy_score(y_test, y_pred_lr)\n",
    "print('LogisticRegression Testing accuracy: %.2f%%' % (test_acc * 100))"
   ]
  },
  {
   "cell_type": "code",
   "execution_count": 14,
   "metadata": {
    "collapsed": false
   },
   "outputs": [
    {
     "name": "stdout",
     "output_type": "stream",
     "text": [
      "BaggingClassifier(base_estimator=DecisionTreeClassifier(class_weight=None, criterion='gini', max_depth=None,\n",
      "            max_features=None, max_leaf_nodes=None, min_samples_leaf=1,\n",
      "            min_samples_split=2, min_weight_fraction_leaf=0.0,\n",
      "            presort=False, random_state=0, splitter='best'),\n",
      "         bootstrap=True, bootstrap_features=False, max_features=1.0,\n",
      "         max_samples=1.0, n_estimators=50, n_jobs=1, oob_score=False,\n",
      "         random_state=0, verbose=0, warm_start=False)\n",
      "BaggingClassifier Testing accuracy: 95.25%\n"
     ]
    }
   ],
   "source": [
    "tree = DecisionTreeClassifier(criterion='gini', max_depth=None, random_state=0)\n",
    "\n",
    "# BaggingClassifier with BaseEstimators of 50 DecisionTreeClassifiers\n",
    "bag_model = BaggingClassifier(base_estimator=tree,\n",
    "                        n_estimators=50, \n",
    "                        bootstrap=True, \n",
    "                        bootstrap_features=False, \n",
    "                        n_jobs=1, \n",
    "                        random_state=0)\n",
    "\n",
    "bag_model.fit(X_train_scaled, y_train)\n",
    "\n",
    "print(bag_model)\n",
    "\n",
    "y_pred_bag = bag_model.predict(X_test_scaled)\n",
    "y_pred_proba_bag = bag_model.predict_proba(X_test_scaled)\n",
    "\n",
    "test_acc = metrics.accuracy_score(y_test, y_pred_bag)\n",
    "print('BaggingClassifier Testing accuracy: %.2f%%' % (test_acc * 100))"
   ]
  },
  {
   "cell_type": "code",
   "execution_count": 15,
   "metadata": {
    "collapsed": false
   },
   "outputs": [
    {
     "name": "stdout",
     "output_type": "stream",
     "text": [
      "AdaBoostClassifier(algorithm='SAMME.R',\n",
      "          base_estimator=DecisionTreeClassifier(class_weight=None, criterion='gini', max_depth=None,\n",
      "            max_features=None, max_leaf_nodes=None, min_samples_leaf=1,\n",
      "            min_samples_split=2, min_weight_fraction_leaf=0.0,\n",
      "            presort=False, random_state=0, splitter='best'),\n",
      "          learning_rate=0.1, n_estimators=50, random_state=0)\n",
      "AdaBoostClassifier Testing accuracy: 87.81%\n"
     ]
    }
   ],
   "source": [
    "# AdaBoostClassifier with BaseEstimators of 50 DecisionTreeClassifiers\n",
    "ada_model = AdaBoostClassifier(base_estimator=tree,\n",
    "                         n_estimators=50, \n",
    "                         learning_rate=0.1,\n",
    "                         random_state=0)\n",
    "\n",
    "ada_model.fit(X_train_scaled, y_train)\n",
    "\n",
    "print(ada_model)\n",
    "\n",
    "y_pred_ada = ada_model.predict(X_test_scaled)\n",
    "y_pred_proba_ada = ada_model.predict_proba(X_test_scaled)\n",
    "\n",
    "test_acc = metrics.accuracy_score(y_test, y_pred_ada)\n",
    "print('AdaBoostClassifier Testing accuracy: %.2f%%' % (test_acc * 100))"
   ]
  },
  {
   "cell_type": "code",
   "execution_count": 27,
   "metadata": {
    "collapsed": true
   },
   "outputs": [],
   "source": [
    "# Use keras to build a sequential feedforward network\n",
    "from keras.utils import np_utils\n",
    "from keras.models import Sequential\n",
    "from keras.layers.core import Dense\n",
    "from keras.optimizers import SGD\n",
    "\n",
    "# Convert the class labels (integers 0-9) into the one-hot format with Keras np_utils\n",
    "y_train_ohe = np_utils.to_categorical(y_train)"
   ]
  },
  {
   "cell_type": "code",
   "execution_count": 28,
   "metadata": {
    "collapsed": true
   },
   "outputs": [],
   "source": [
    "# Initialize a new model using the Sequential class to implement a feedforward neural network and then add hidden layers to it\n",
    "np.random.seed(0)\n",
    "nn_model = Sequential()\n",
    "# 784 input units for 28 x 28 pixel data\n",
    "nn_model.add(Dense(input_dim=784, output_dim=50, init='uniform', activation='tanh')) \n",
    "# 50 hidden layer units plus 1 bias unit in each layer. Bias units are initialized to 0 in fully connected networks in Keras.\n",
    "nn_model.add(Dense(input_dim=50, output_dim=50, init='uniform', activation='tanh'))\n",
    "# Finally, the number of units in the output layer should be equal to the number of unique class labels \n",
    "# i.e.the number of columns in the one-hot encoded class label array.\n",
    "nn_model.add(Dense(input_dim=50, output_dim=10, init='uniform', activation='softmax')) # 10 output units"
   ]
  },
  {
   "cell_type": "code",
   "execution_count": 29,
   "metadata": {
    "collapsed": false
   },
   "outputs": [
    {
     "name": "stdout",
     "output_type": "stream",
     "text": [
      "<keras.models.Sequential object at 0x000000001C29F630>\n"
     ]
    }
   ],
   "source": [
    "# Configure a stochastic gradient descent optimizer\n",
    "# set values for the weight decay constant and momentum learning to adjust the learning rate\n",
    "sgd = SGD(lr=0.001, decay=1e-7, momentum=0.9)\n",
    "\n",
    "# Lastly, we set the cost (or loss) function to categorical_crossentropy. The (binary) cross-entropy is just the technical \n",
    "# term for the cost function in logistic regression, and the categorical cross-entropy is its generalization for \n",
    "# multi-class predictions via softmax.\n",
    "nn_model.compile(loss='categorical_crossentropy', optimizer=sgd)\n",
    "print(nn_model)"
   ]
  },
  {
   "cell_type": "code",
   "execution_count": 30,
   "metadata": {
    "collapsed": false
   },
   "outputs": [
    {
     "name": "stdout",
     "output_type": "stream",
     "text": [
      "Train on 48000 samples, validate on 12000 samples\n",
      "Epoch 1/50\n",
      "48000/48000 [==============================] - 8s - loss: 2.2475 - acc: 0.3463 - val_loss: 2.1656 - val_acc: 0.5200\n",
      "Epoch 2/50\n",
      "48000/48000 [==============================] - 8s - loss: 1.9979 - acc: 0.5507 - val_loss: 1.7825 - val_acc: 0.5651\n",
      "Epoch 3/50\n",
      "48000/48000 [==============================] - 7s - loss: 1.5369 - acc: 0.6018 - val_loss: 1.3116 - val_acc: 0.6408\n",
      "Epoch 4/50\n",
      "48000/48000 [==============================] - 7s - loss: 1.1329 - acc: 0.6962 - val_loss: 0.9845 - val_acc: 0.7514\n",
      "Epoch 5/50\n",
      "48000/48000 [==============================] - 7s - loss: 0.8664 - acc: 0.8041 - val_loss: 0.7711 - val_acc: 0.8317\n",
      "Epoch 6/50\n",
      "48000/48000 [==============================] - 7s - loss: 0.6956 - acc: 0.8477 - val_loss: 0.6431 - val_acc: 0.8542\n",
      "Epoch 7/50\n",
      "48000/48000 [==============================] - 7s - loss: 0.5915 - acc: 0.8644 - val_loss: 0.5663 - val_acc: 0.8635\n",
      "Epoch 8/50\n",
      "48000/48000 [==============================] - 8s - loss: 0.5199 - acc: 0.8771 - val_loss: 0.5096 - val_acc: 0.8761\n",
      "Epoch 9/50\n",
      "48000/48000 [==============================] - 7s - loss: 0.4741 - acc: 0.8848 - val_loss: 0.4636 - val_acc: 0.8829\n",
      "Epoch 10/50\n",
      "48000/48000 [==============================] - 7s - loss: 0.4449 - acc: 0.8887 - val_loss: 0.4389 - val_acc: 0.8865\n",
      "Epoch 11/50\n",
      "48000/48000 [==============================] - 7s - loss: 0.4190 - acc: 0.8926 - val_loss: 0.4254 - val_acc: 0.8886\n",
      "Epoch 12/50\n",
      "48000/48000 [==============================] - 7s - loss: 0.4004 - acc: 0.8964 - val_loss: 0.3973 - val_acc: 0.8938\n",
      "Epoch 13/50\n",
      "48000/48000 [==============================] - 7s - loss: 0.3846 - acc: 0.8983 - val_loss: 0.3947 - val_acc: 0.8947\n",
      "Epoch 14/50\n",
      "48000/48000 [==============================] - 7s - loss: 0.3714 - acc: 0.9017 - val_loss: 0.3799 - val_acc: 0.8961\n",
      "Epoch 15/50\n",
      "48000/48000 [==============================] - 7s - loss: 0.3513 - acc: 0.9061 - val_loss: 0.3516 - val_acc: 0.9014\n",
      "Epoch 16/50\n",
      "48000/48000 [==============================] - 7s - loss: 0.3403 - acc: 0.9062 - val_loss: 0.3481 - val_acc: 0.9025\n",
      "Epoch 17/50\n",
      "48000/48000 [==============================] - 7s - loss: 0.3312 - acc: 0.9091 - val_loss: 0.3408 - val_acc: 0.9069\n",
      "Epoch 18/50\n",
      "48000/48000 [==============================] - 8s - loss: 0.3212 - acc: 0.9124 - val_loss: 0.3221 - val_acc: 0.9111\n",
      "Epoch 19/50\n",
      "48000/48000 [==============================] - 8s - loss: 0.3113 - acc: 0.9132 - val_loss: 0.3124 - val_acc: 0.9122\n",
      "Epoch 20/50\n",
      "48000/48000 [==============================] - 7s - loss: 0.3025 - acc: 0.9169 - val_loss: 0.3072 - val_acc: 0.9110\n",
      "Epoch 21/50\n",
      "48000/48000 [==============================] - 7s - loss: 0.3006 - acc: 0.9145 - val_loss: 0.3089 - val_acc: 0.9112\n",
      "Epoch 22/50\n",
      "48000/48000 [==============================] - 8s - loss: 0.2941 - acc: 0.9183 - val_loss: 0.3185 - val_acc: 0.9122\n",
      "Epoch 23/50\n",
      "48000/48000 [==============================] - 8s - loss: 0.2869 - acc: 0.9207 - val_loss: 0.2924 - val_acc: 0.9173\n",
      "Epoch 24/50\n",
      "48000/48000 [==============================] - 9s - loss: 0.2800 - acc: 0.9206 - val_loss: 0.2944 - val_acc: 0.9153\n",
      "Epoch 25/50\n",
      "48000/48000 [==============================] - 8s - loss: 0.2738 - acc: 0.9231 - val_loss: 0.2955 - val_acc: 0.9142\n",
      "Epoch 26/50\n",
      "48000/48000 [==============================] - 8s - loss: 0.2648 - acc: 0.9255 - val_loss: 0.2722 - val_acc: 0.9235\n",
      "Epoch 27/50\n",
      "48000/48000 [==============================] - 8s - loss: 0.2594 - acc: 0.9275 - val_loss: 0.2741 - val_acc: 0.9226\n",
      "Epoch 28/50\n",
      "48000/48000 [==============================] - 8s - loss: 0.2556 - acc: 0.9280 - val_loss: 0.2701 - val_acc: 0.9215\n",
      "Epoch 29/50\n",
      "48000/48000 [==============================] - 9s - loss: 0.2489 - acc: 0.9289 - val_loss: 0.2789 - val_acc: 0.9183\n",
      "Epoch 30/50\n",
      "48000/48000 [==============================] - 8s - loss: 0.2493 - acc: 0.9290 - val_loss: 0.2676 - val_acc: 0.9237\n",
      "Epoch 31/50\n",
      "48000/48000 [==============================] - 9s - loss: 0.2458 - acc: 0.9305 - val_loss: 0.2741 - val_acc: 0.9216\n",
      "Epoch 32/50\n",
      "48000/48000 [==============================] - 10s - loss: 0.2413 - acc: 0.9319 - val_loss: 0.2600 - val_acc: 0.9238\n",
      "Epoch 33/50\n",
      "48000/48000 [==============================] - 10s - loss: 0.2372 - acc: 0.9325 - val_loss: 0.2555 - val_acc: 0.9286\n",
      "Epoch 34/50\n",
      "48000/48000 [==============================] - 10s - loss: 0.2320 - acc: 0.9346 - val_loss: 0.2596 - val_acc: 0.9237\n",
      "Epoch 35/50\n",
      "48000/48000 [==============================] - 9s - loss: 0.2276 - acc: 0.9348 - val_loss: 0.2508 - val_acc: 0.9275\n",
      "Epoch 36/50\n",
      "48000/48000 [==============================] - 10s - loss: 0.2300 - acc: 0.9345 - val_loss: 0.2473 - val_acc: 0.9280\n",
      "Epoch 37/50\n",
      "48000/48000 [==============================] - 10s - loss: 0.2241 - acc: 0.9361 - val_loss: 0.2436 - val_acc: 0.9284\n",
      "Epoch 38/50\n",
      "48000/48000 [==============================] - 10s - loss: 0.2196 - acc: 0.9376 - val_loss: 0.2450 - val_acc: 0.9274\n",
      "Epoch 39/50\n",
      "48000/48000 [==============================] - 9s - loss: 0.2224 - acc: 0.9363 - val_loss: 0.2456 - val_acc: 0.9294\n",
      "Epoch 40/50\n",
      "48000/48000 [==============================] - 10s - loss: 0.2189 - acc: 0.9360 - val_loss: 0.2340 - val_acc: 0.9327\n",
      "Epoch 41/50\n",
      "48000/48000 [==============================] - 10s - loss: 0.2177 - acc: 0.9371 - val_loss: 0.2429 - val_acc: 0.9300\n",
      "Epoch 42/50\n",
      "48000/48000 [==============================] - 10s - loss: 0.2145 - acc: 0.9372 - val_loss: 0.2335 - val_acc: 0.9323\n",
      "Epoch 43/50\n",
      "48000/48000 [==============================] - 10s - loss: 0.2127 - acc: 0.9386 - val_loss: 0.2277 - val_acc: 0.9323\n",
      "Epoch 44/50\n",
      "48000/48000 [==============================] - 10s - loss: 0.2095 - acc: 0.9399 - val_loss: 0.2296 - val_acc: 0.9327\n",
      "Epoch 45/50\n",
      "48000/48000 [==============================] - 10s - loss: 0.2094 - acc: 0.9405 - val_loss: 0.2305 - val_acc: 0.9302\n",
      "Epoch 46/50\n",
      "48000/48000 [==============================] - 10s - loss: 0.2057 - acc: 0.9392 - val_loss: 0.2294 - val_acc: 0.9323\n",
      "Epoch 47/50\n",
      "48000/48000 [==============================] - 10s - loss: 0.2039 - acc: 0.9404 - val_loss: 0.2194 - val_acc: 0.9354\n",
      "Epoch 48/50\n",
      "48000/48000 [==============================] - 10s - loss: 0.2009 - acc: 0.9417 - val_loss: 0.2303 - val_acc: 0.9317\n",
      "Epoch 49/50\n",
      "48000/48000 [==============================] - 10s - loss: 0.1950 - acc: 0.9442 - val_loss: 0.2136 - val_acc: 0.9360\n",
      "Epoch 50/50\n",
      "48000/48000 [==============================] - 10s - loss: 0.1900 - acc: 0.9453 - val_loss: 0.2243 - val_acc: 0.9349\n"
     ]
    },
    {
     "data": {
      "text/plain": [
       "<keras.callbacks.History at 0x349d1a90>"
      ]
     },
     "execution_count": 30,
     "metadata": {},
     "output_type": "execute_result"
    }
   ],
   "source": [
    "# After compiling the model,now train it by calling the fit method.Here, we are using mini-batch stochastic gradient with \n",
    "# a batch size of 300 training samples per batch. We train the MLP over 50 epochs. We reserve 20 percent of the training data \n",
    "# (here, 12,000 samples) for validation after each epoch so that we can check if the model is overfitting during training\n",
    "nn_model.fit(X=X_train, y=y_train_ohe, nb_epoch=50, batch_size=300, verbose=1, validation_split=0.2, show_accuracy=True)"
   ]
  },
  {
   "cell_type": "code",
   "execution_count": 20,
   "metadata": {
    "collapsed": false
   },
   "outputs": [
    {
     "name": "stdout",
     "output_type": "stream",
     "text": [
      "Neural Networks Classifier Testing accuracy: 91.30%\n"
     ]
    }
   ],
   "source": [
    "# Make predictions\n",
    "y_pred_nn = nn_model.predict_classes(X_test, verbose=0)\n",
    "\n",
    "test_acc = metrics.accuracy_score(y_test, y_pred_nn)\n",
    "print('Neural Networks Classifier Testing accuracy: %.2f%%' % (test_acc * 100))"
   ]
  },
  {
   "cell_type": "code",
   "execution_count": 21,
   "metadata": {
    "collapsed": false
   },
   "outputs": [],
   "source": [
    "def get_misclassified_counts(y_pred):\n",
    "    count, ratio = [], []\n",
    "    for d in range(10):\n",
    "        y_pred_d = y_pred[np.where(y_test == d)]\n",
    "        mc = y_pred_d[np.where(y_pred_d != d)].size\n",
    "        mcr = y_pred_d[np.where(y_pred_d != d)].size / y_pred_d.size\n",
    "        count.append(mc)\n",
    "        ratio.append(np.around([mcr], decimals=2))\n",
    "    return count, ratio"
   ]
  },
  {
   "cell_type": "code",
   "execution_count": 22,
   "metadata": {
    "collapsed": false
   },
   "outputs": [
    {
     "name": "stdout",
     "output_type": "stream",
     "text": [
      "[10, 13, 61, 70, 51, 66, 38, 57, 79, 83]\n",
      "[array([ 0.01]), array([ 0.01]), array([ 0.06]), array([ 0.07]), array([ 0.05]), array([ 0.07]), array([ 0.04]), array([ 0.06]), array([ 0.08]), array([ 0.08])]\n",
      "[65, 45, 153, 145, 116, 141, 116, 99, 186, 153]\n",
      "[array([ 0.07]), array([ 0.04]), array([ 0.15]), array([ 0.14]), array([ 0.12]), array([ 0.16]), array([ 0.12]), array([ 0.1]), array([ 0.19]), array([ 0.15])]\n",
      "[18, 23, 118, 92, 69, 124, 49, 80, 131, 113]\n",
      "[array([ 0.02]), array([ 0.02]), array([ 0.11]), array([ 0.09]), array([ 0.07]), array([ 0.14]), array([ 0.05]), array([ 0.08]), array([ 0.13]), array([ 0.11])]\n",
      "[26, 15, 87, 68, 44, 96, 48, 70, 89, 87]\n",
      "[array([ 0.03]), array([ 0.01]), array([ 0.08]), array([ 0.07]), array([ 0.04]), array([ 0.11]), array([ 0.05]), array([ 0.07]), array([ 0.09]), array([ 0.09])]\n",
      "[110, 56, 766, 657, 814, 848, 63, 748, 326, 54]\n",
      "[array([ 0.11]), array([ 0.05]), array([ 0.74]), array([ 0.65]), array([ 0.83]), array([ 0.95]), array([ 0.07]), array([ 0.73]), array([ 0.33]), array([ 0.05])]\n",
      "[20, 24, 104, 92, 66, 113, 46, 77, 118, 83]\n",
      "[array([ 0.02]), array([ 0.02]), array([ 0.1]), array([ 0.09]), array([ 0.07]), array([ 0.13]), array([ 0.05]), array([ 0.07]), array([ 0.12]), array([ 0.08])]\n",
      "[13, 19, 54, 62, 48, 57, 39, 46, 71, 66]\n",
      "[array([ 0.01]), array([ 0.02]), array([ 0.05]), array([ 0.06]), array([ 0.05]), array([ 0.06]), array([ 0.04]), array([ 0.04]), array([ 0.07]), array([ 0.07])]\n",
      "[68, 45, 148, 148, 119, 146, 111, 100, 186, 148]\n",
      "[array([ 0.07]), array([ 0.04]), array([ 0.14]), array([ 0.15]), array([ 0.12]), array([ 0.16]), array([ 0.12]), array([ 0.1]), array([ 0.19]), array([ 0.15])]\n",
      "[23, 29, 97, 105, 74, 145, 68, 85, 136, 108]\n",
      "[array([ 0.02]), array([ 0.03]), array([ 0.09]), array([ 0.1]), array([ 0.08]), array([ 0.16]), array([ 0.07]), array([ 0.08]), array([ 0.14]), array([ 0.11])]\n"
     ]
    }
   ],
   "source": [
    "models_pred = [y_pred_rnf, y_pred_tree, y_pred_ovr_linear_svc_svm, y_pred_ovo_linear_svc_svm, y_pred_gaussian_nb, \n",
    "                                                                           y_pred_lr, y_pred_bag, y_pred_ada, y_pred_nn]\n",
    "for y_pred in models_pred:\n",
    "    count, ratio = get_misclassified_counts(y_pred)\n",
    "    print(count)\n",
    "    print(ratio)"
   ]
  },
  {
   "cell_type": "code",
   "execution_count": 23,
   "metadata": {
    "collapsed": true
   },
   "outputs": [],
   "source": [
    "def plot_misclassified_images(models_pred, digit):\n",
    "    y_test_d_index = np.where(y_test == digit)[0]\n",
    "    all_misclassify_index = []\n",
    "    for index in y_test_d_index:\n",
    "        all_misclassify = True;\n",
    "        for y_pred in models_pred:\n",
    "            if y_pred[index] == digit:\n",
    "                all_misclassify = False\n",
    "                break\n",
    "        if all_misclassify == True:\n",
    "            all_misclassify_index.append(index)\n",
    "    \n",
    "    # To get an idea what the misclassified images in MNIST look like, let's visualize\n",
    "    fig, ax = plt.subplots(nrows=2, ncols=8, sharex=True, sharey=True, figsize=(12, 4))\n",
    "    ax = ax.flatten()\n",
    "    img_index = 0\n",
    "    for i in all_misclassify_index:\n",
    "        img = X_test[i].reshape(28,28)\n",
    "        ax[img_index].imshow(img, cmap='Greys', interpolation='nearest')\n",
    "        ax[img_index].set_title('%d) t: %d' % (img_index+1, y_test[i]))\n",
    "        img_index = img_index + 1\n",
    "    ax[0].set_xticks([])\n",
    "    ax[0].set_yticks([])\n",
    "    plt.tight_layout()\n",
    "    plt.show()\n",
    "    #print(all_misclassify_index)"
   ]
  },
  {
   "cell_type": "markdown",
   "metadata": {},
   "source": [
    "### Having Some Fun\n",
    "From misclassificationthe count and ratio it appears that 5 and 8 are the most misclassified digits. Let's plot the instances of 5 and 8 which have been misclassified by all classifiers."
   ]
  },
  {
   "cell_type": "code",
   "execution_count": 24,
   "metadata": {
    "collapsed": false
   },
   "outputs": [
    {
     "data": {
      "image/png": "[encoded data removed]",
      "text/plain": [
       "<matplotlib.figure.Figure at 0x34972a58>"
      ]
     },
     "metadata": {},
     "output_type": "display_data"
    }
   ],
   "source": [
    "plot_misclassified_images(models_pred, 5)"
   ]
  },
  {
   "cell_type": "code",
   "execution_count": 25,
   "metadata": {
    "collapsed": false
   },
   "outputs": [
    {
     "data": {
      "image/png": "[encoded data removed]",
      "text/plain": [
       "<matplotlib.figure.Figure at 0x349721d0>"
      ]
     },
     "metadata": {},
     "output_type": "display_data"
    }
   ],
   "source": [
    "plot_misclassified_images(models_pred, 8)"
   ]
  },
  {
   "cell_type": "code",
   "execution_count": 26,
   "metadata": {
    "collapsed": false
   },
   "outputs": [
    {
     "data": {
      "image/png": "[encoded data removed]",
      "text/plain": [
       "<matplotlib.figure.Figure at 0x35069dd8>"
      ]
     },
     "metadata": {},
     "output_type": "display_data"
    }
   ],
   "source": [
    "plot_misclassified_images(models_pred, 9)"
   ]
  }
 ],
 "metadata": {
  "kernelspec": {
   "display_name": "Python 3",
   "language": "python",
   "name": "python3"
  },
  "language_info": {
   "codemirror_mode": {
    "name": "ipython",
    "version": 3
   },
   "file_extension": ".py",
   "mimetype": "text/x-python",
   "name": "python",
   "nbconvert_exporter": "python",
   "pygments_lexer": "ipython3",
   "version": "3.4.3"
  }
 },
 "nbformat": 4,
 "nbformat_minor": 0
}
