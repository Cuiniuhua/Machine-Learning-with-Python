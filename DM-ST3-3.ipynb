{
 "cells": [
  {
   "cell_type": "code",
   "execution_count": 21,
   "metadata": {
    "collapsed": true
   },
   "outputs": [],
   "source": [
    "import pandas as pd\n",
    "import numpy as np\n",
    "\n",
    "from sklearn.tree import DecisionTreeClassifier\n",
    "from sklearn.ensemble import BaggingClassifier, AdaBoostClassifier, RandomForestClassifier\n",
    "from sklearn.naive_bayes import BernoulliNB\n",
    "\n",
    "from sklearn import metrics\n",
    "from sklearn.cross_validation import StratifiedKFold, cross_val_score, cross_val_predict\n",
    "\n",
    "import matplotlib.pyplot as plt\n",
    "%matplotlib inline"
   ]
  },
  {
   "cell_type": "code",
   "execution_count": 3,
   "metadata": {
    "collapsed": false
   },
   "outputs": [],
   "source": [
    "data_train = pd.read_table('training.txt', sep = ' ', header = None, names = ['doc_id','feature_index','tf-idf'])"
   ]
  },
  {
   "cell_type": "code",
   "execution_count": 4,
   "metadata": {
    "collapsed": false
   },
   "outputs": [
    {
     "data": {
      "text/plain": [
       "1842"
      ]
     },
     "execution_count": 4,
     "metadata": {},
     "output_type": "execute_result"
    }
   ],
   "source": [
    "len_data_train = data_train['doc_id'].max()\n",
    "len_data_train"
   ]
  },
  {
   "cell_type": "code",
   "execution_count": 5,
   "metadata": {
    "collapsed": false
   },
   "outputs": [],
   "source": [
    "data_test = pd.read_table('testing.txt', sep = ' ', header = None, names = ['doc_id','feature_index','tf-idf'])"
   ]
  },
  {
   "cell_type": "code",
   "execution_count": 6,
   "metadata": {
    "collapsed": false
   },
   "outputs": [],
   "source": [
    "data_test['doc_id'] = data_test['doc_id'].map(lambda x : x + len_data_train)"
   ]
  },
  {
   "cell_type": "code",
   "execution_count": 7,
   "metadata": {
    "collapsed": false
   },
   "outputs": [],
   "source": [
    "merged_train_test_data = data_train.copy()\n",
    "merged_train_test_data = merged_train_test_data.append(data_test.copy(), ignore_index=True)\n",
    "#merged_train_test_data # max(merged_train_test_data['doc_id']) = 2794 (1842 + 952)"
   ]
  },
  {
   "cell_type": "code",
   "execution_count": 8,
   "metadata": {
    "collapsed": false
   },
   "outputs": [],
   "source": [
    "merged_doc_feature_train_test = merged_train_test_data.pivot('doc_id', columns = 'feature_index', values = 'tf-idf')\n",
    "merged_doc_feature_train_test = merged_doc_feature_train_test.fillna(0.0)\n",
    "#merged_doc_feature_train_test"
   ]
  },
  {
   "cell_type": "code",
   "execution_count": 9,
   "metadata": {
    "collapsed": false
   },
   "outputs": [],
   "source": [
    "doc_feature_df_train = merged_doc_feature_train_test[0:len_data_train]\n",
    "#doc_feature_df_train"
   ]
  },
  {
   "cell_type": "code",
   "execution_count": 10,
   "metadata": {
    "collapsed": false
   },
   "outputs": [],
   "source": [
    "doc_feature_df_test = merged_doc_feature_train_test[len_data_train:]\n",
    "#doc_feature_df_test"
   ]
  },
  {
   "cell_type": "code",
   "execution_count": 11,
   "metadata": {
    "collapsed": true
   },
   "outputs": [],
   "source": [
    "doc_class_df_train = pd.read_table('label_training.txt', sep = ' ', header = None, names = ['label'])"
   ]
  },
  {
   "cell_type": "code",
   "execution_count": 12,
   "metadata": {
    "collapsed": true
   },
   "outputs": [],
   "source": [
    "skf = StratifiedKFold(doc_class_df_train.label, n_folds=10, random_state=123)"
   ]
  },
  {
   "cell_type": "code",
   "execution_count": 13,
   "metadata": {
    "collapsed": false
   },
   "outputs": [],
   "source": [
    "def benchmark(clf, clf_name):\n",
    "    print('_' * 80)\n",
    "    print(\"Training: \")\n",
    "    print(clf_name)\n",
    "    \n",
    "    scores = cross_val_score(estimator=clf, \n",
    "                             X=doc_feature_df_train, \n",
    "                             y=doc_class_df_train.label,\n",
    "                             cv=skf,\n",
    "                             scoring='accuracy')\n",
    "    print('Accuracy: %0.6f (+/- %0.6f) [%s]' %(scores.mean(), scores.std(), clf))"
   ]
  },
  {
   "cell_type": "code",
   "execution_count": 14,
   "metadata": {
    "collapsed": true
   },
   "outputs": [],
   "source": [
    "tree = DecisionTreeClassifier(criterion='entropy', max_depth=2, random_state=123)\n",
    "bnb = BernoulliNB(alpha=.089)"
   ]
  },
  {
   "cell_type": "code",
   "execution_count": 15,
   "metadata": {
    "collapsed": false
   },
   "outputs": [
    {
     "name": "stdout",
     "output_type": "stream",
     "text": [
      "________________________________________________________________________________\n",
      "Training: \n",
      "Bagging\n",
      "Accuracy: 0.994568 (+/- 0.004875) [BaggingClassifier(base_estimator=BernoulliNB(alpha=0.089, binarize=0.0, class_prior=None, fit_prior=True),\n",
      "         bootstrap=True, bootstrap_features=False, max_features=1.0,\n",
      "         max_samples=1.0, n_estimators=50, n_jobs=1, oob_score=False,\n",
      "         random_state=None, verbose=0, warm_start=False)]\n"
     ]
    }
   ],
   "source": [
    "# BaggingClassifier with BaseEstimators of 50 BernoulliNB\n",
    "bag = BaggingClassifier(base_estimator=bnb,\n",
    "                        n_estimators=50, \n",
    "                        bootstrap=True, \n",
    "                        bootstrap_features=False, \n",
    "                        n_jobs=1)\n",
    "benchmark(bag, 'Bagging')"
   ]
  },
  {
   "cell_type": "code",
   "execution_count": 16,
   "metadata": {
    "collapsed": false
   },
   "outputs": [
    {
     "name": "stdout",
     "output_type": "stream",
     "text": [
      "________________________________________________________________________________\n",
      "Training: \n",
      "AdaBoost\n",
      "Accuracy: 0.972347 (+/- 0.013751) [AdaBoostClassifier(algorithm='SAMME.R',\n",
      "          base_estimator=DecisionTreeClassifier(class_weight=None, criterion='entropy', max_depth=2,\n",
      "            max_features=None, max_leaf_nodes=None, min_samples_leaf=1,\n",
      "            min_samples_split=2, min_weight_fraction_leaf=0.0,\n",
      "            presort=False, random_state=123, splitter='best'),\n",
      "          learning_rate=0.1, n_estimators=50, random_state=None)]\n"
     ]
    }
   ],
   "source": [
    "# AdaBoostClassifier with BaseEstimators of 50 DecisionTreeClassifiers\n",
    "ada = AdaBoostClassifier(base_estimator=tree,\n",
    "                         n_estimators=50, \n",
    "                         learning_rate=0.1)\n",
    "benchmark(ada, 'AdaBoost')"
   ]
  },
  {
   "cell_type": "code",
   "execution_count": 17,
   "metadata": {
    "collapsed": false
   },
   "outputs": [
    {
     "name": "stdout",
     "output_type": "stream",
     "text": [
      "________________________________________________________________________________\n",
      "Training: \n",
      "RandomForest\n",
      "Accuracy: 0.978299 (+/- 0.012833) [RandomForestClassifier(bootstrap=True, class_weight=None, criterion='gini',\n",
      "            max_depth=None, max_features='auto', max_leaf_nodes=None,\n",
      "            min_samples_leaf=1, min_samples_split=2,\n",
      "            min_weight_fraction_leaf=0.0, n_estimators=50, n_jobs=1,\n",
      "            oob_score=False, random_state=None, verbose=0,\n",
      "            warm_start=False)]\n"
     ]
    }
   ],
   "source": [
    "# RandomForestClassifier with BaseEstimators of 50 DecisionTreeClassifiers\n",
    "rnf = RandomForestClassifier(n_estimators=50)\n",
    "benchmark(rnf, 'RandomForest')"
   ]
  },
  {
   "cell_type": "code",
   "execution_count": 25,
   "metadata": {
    "collapsed": false
   },
   "outputs": [
    {
     "name": "stdout",
     "output_type": "stream",
     "text": [
      "             precision    recall  f1-score   support\n",
      "\n",
      "         -1       0.98      0.94      0.96       655\n",
      "          1       0.97      0.99      0.98      1187\n",
      "\n",
      "avg / total       0.97      0.97      0.97      1842\n",
      "\n"
     ]
    }
   ],
   "source": [
    "y_pred = cross_val_predict(estimator=ada, \n",
    "                             X=doc_feature_df_train, \n",
    "                             y=doc_class_df_train.label,\n",
    "                             cv=skf, n_jobs=1)\n",
    "\n",
    "print(metrics.classification_report(doc_class_df_train.label, y_pred))"
   ]
  },
  {
   "cell_type": "code",
   "execution_count": 26,
   "metadata": {
    "collapsed": false
   },
   "outputs": [
    {
     "name": "stdout",
     "output_type": "stream",
     "text": [
      "             precision    recall  f1-score   support\n",
      "\n",
      "         -1       1.00      0.94      0.97       655\n",
      "          1       0.97      1.00      0.98      1187\n",
      "\n",
      "avg / total       0.98      0.98      0.98      1842\n",
      "\n"
     ]
    }
   ],
   "source": [
    "y_pred = cross_val_predict(estimator=rnf, \n",
    "                             X=doc_feature_df_train, \n",
    "                             y=doc_class_df_train.label,\n",
    "                             cv=skf, n_jobs=1)\n",
    "\n",
    "print(metrics.classification_report(doc_class_df_train.label, y_pred))"
   ]
  },
  {
   "cell_type": "code",
   "execution_count": 22,
   "metadata": {
    "collapsed": false
   },
   "outputs": [],
   "source": [
    "y_pred = cross_val_predict(estimator=bag, \n",
    "                             X=doc_feature_df_train, \n",
    "                             y=doc_class_df_train.label,\n",
    "                             cv=skf, n_jobs=1)"
   ]
  },
  {
   "cell_type": "code",
   "execution_count": 24,
   "metadata": {
    "collapsed": false
   },
   "outputs": [
    {
     "name": "stdout",
     "output_type": "stream",
     "text": [
      "             precision    recall  f1-score   support\n",
      "\n",
      "         -1       1.00      0.99      0.99       655\n",
      "          1       0.99      1.00      1.00      1187\n",
      "\n",
      "avg / total       1.00      1.00      1.00      1842\n",
      "\n"
     ]
    }
   ],
   "source": [
    "print(metrics.classification_report(doc_class_df_train.label, y_pred))"
   ]
  },
  {
   "cell_type": "code",
   "execution_count": 19,
   "metadata": {
    "collapsed": true
   },
   "outputs": [],
   "source": [
    "np.savetxt('720004946-3.txt', y_test_pred, delimiter='\\n', fmt='%d')"
   ]
  }
 ],
 "metadata": {
  "kernelspec": {
   "display_name": "Python 3",
   "language": "python",
   "name": "python3"
  },
  "language_info": {
   "codemirror_mode": {
    "name": "ipython",
    "version": 3
   },
   "file_extension": ".py",
   "mimetype": "text/x-python",
   "name": "python",
   "nbconvert_exporter": "python",
   "pygments_lexer": "ipython3",
   "version": "3.4.3"
  }
 },
 "nbformat": 4,
 "nbformat_minor": 0
}
