{
 "cells": [
  {
   "cell_type": "markdown",
   "metadata": {},
   "source": [
    "### Goal of this notebook is to compare the performance of GaussianNB, MultinomialNB and BernoulliNB for continuous valued attributes"
   ]
  },
  {
   "cell_type": "markdown",
   "metadata": {},
   "source": [
    "### Loading the Pima Indians Diabetes Dataset"
   ]
  },
  {
   "cell_type": "markdown",
   "metadata": {},
   "source": [
    "1. Title: Pima Indians Diabetes Dataset: [Pima Indians Diabetes](https://archive.ics.uci.edu/ml/datasets/Pima+Indians+Diabetes) from the UCI Machine Learning Repository\n",
    "2. Number of Instances: 768\n",
    "\n",
    "3. Number of Attributes: 8 plus class \n",
    "\n",
    "4. For Each Attribute: (all numeric-valued)\n",
    "   1. Number of times pregnant\n",
    "   2. Plasma glucose concentration a 2 hours in an oral glucose tolerance test\n",
    "   3. Diastolic blood pressure (mm Hg)\n",
    "   4. Triceps skin fold thickness (mm)\n",
    "   5. 2-Hour serum insulin (mu U/ml)\n",
    "   6. Body mass index (weight in kg/(height in m)^2)\n",
    "   7. Diabetes pedigree function\n",
    "   8. Age (years)\n",
    "   9. Class variable (0 or 1)\n",
    "\n",
    "5. Missing Attribute Values: Yes\n",
    "\n",
    "6. Class Distribution: (class value 1 is interpreted as \"tested positive for diabetes\")\n",
    "\n",
    "   Class Value  Number of instances\n",
    "   0            500\n",
    "   1            268"
   ]
  },
  {
   "cell_type": "code",
   "execution_count": 7,
   "metadata": {
    "collapsed": true
   },
   "outputs": [],
   "source": [
    "import pandas as pd\n",
    "import numpy as np\n",
    "\n",
    "from sklearn.naive_bayes import GaussianNB, MultinomialNB, BernoulliNB\n",
    "from sklearn.pipeline import Pipeline\n",
    "\n",
    "from sklearn import metrics\n",
    "\n",
    "import matplotlib.pyplot as plt\n",
    "%matplotlib inline\n",
    "plt.rcParams['font.size'] = 12\n",
    "#plt.rcParams['figure.figsize'] = 16, 12  # that's default image size for this interactive "
   ]
  },
  {
   "cell_type": "code",
   "execution_count": 8,
   "metadata": {
    "collapsed": false
   },
   "outputs": [
    {
     "data": {
      "text/html": [
       "<div>\n",
       "<table border=\"1\" class=\"dataframe\">\n",
       "  <thead>\n",
       "    <tr style=\"text-align: right;\">\n",
       "      <th></th>\n",
       "      <th>pregnant</th>\n",
       "      <th>glucose</th>\n",
       "      <th>bp</th>\n",
       "      <th>skin_fold</th>\n",
       "      <th>serum_insulin</th>\n",
       "      <th>bmi</th>\n",
       "      <th>pedigree</th>\n",
       "      <th>age</th>\n",
       "      <th>label</th>\n",
       "    </tr>\n",
       "  </thead>\n",
       "  <tbody>\n",
       "    <tr>\n",
       "      <th>0</th>\n",
       "      <td>6</td>\n",
       "      <td>148</td>\n",
       "      <td>72</td>\n",
       "      <td>35</td>\n",
       "      <td>0</td>\n",
       "      <td>33.6</td>\n",
       "      <td>0.627</td>\n",
       "      <td>50</td>\n",
       "      <td>1</td>\n",
       "    </tr>\n",
       "    <tr>\n",
       "      <th>1</th>\n",
       "      <td>1</td>\n",
       "      <td>85</td>\n",
       "      <td>66</td>\n",
       "      <td>29</td>\n",
       "      <td>0</td>\n",
       "      <td>26.6</td>\n",
       "      <td>0.351</td>\n",
       "      <td>31</td>\n",
       "      <td>0</td>\n",
       "    </tr>\n",
       "    <tr>\n",
       "      <th>2</th>\n",
       "      <td>8</td>\n",
       "      <td>183</td>\n",
       "      <td>64</td>\n",
       "      <td>0</td>\n",
       "      <td>0</td>\n",
       "      <td>23.3</td>\n",
       "      <td>0.672</td>\n",
       "      <td>32</td>\n",
       "      <td>1</td>\n",
       "    </tr>\n",
       "    <tr>\n",
       "      <th>3</th>\n",
       "      <td>1</td>\n",
       "      <td>89</td>\n",
       "      <td>66</td>\n",
       "      <td>23</td>\n",
       "      <td>94</td>\n",
       "      <td>28.1</td>\n",
       "      <td>0.167</td>\n",
       "      <td>21</td>\n",
       "      <td>0</td>\n",
       "    </tr>\n",
       "    <tr>\n",
       "      <th>4</th>\n",
       "      <td>0</td>\n",
       "      <td>137</td>\n",
       "      <td>40</td>\n",
       "      <td>35</td>\n",
       "      <td>168</td>\n",
       "      <td>43.1</td>\n",
       "      <td>2.288</td>\n",
       "      <td>33</td>\n",
       "      <td>1</td>\n",
       "    </tr>\n",
       "    <tr>\n",
       "      <th>5</th>\n",
       "      <td>5</td>\n",
       "      <td>116</td>\n",
       "      <td>74</td>\n",
       "      <td>0</td>\n",
       "      <td>0</td>\n",
       "      <td>25.6</td>\n",
       "      <td>0.201</td>\n",
       "      <td>30</td>\n",
       "      <td>0</td>\n",
       "    </tr>\n",
       "    <tr>\n",
       "      <th>6</th>\n",
       "      <td>3</td>\n",
       "      <td>78</td>\n",
       "      <td>50</td>\n",
       "      <td>32</td>\n",
       "      <td>88</td>\n",
       "      <td>31.0</td>\n",
       "      <td>0.248</td>\n",
       "      <td>26</td>\n",
       "      <td>1</td>\n",
       "    </tr>\n",
       "    <tr>\n",
       "      <th>7</th>\n",
       "      <td>10</td>\n",
       "      <td>115</td>\n",
       "      <td>0</td>\n",
       "      <td>0</td>\n",
       "      <td>0</td>\n",
       "      <td>35.3</td>\n",
       "      <td>0.134</td>\n",
       "      <td>29</td>\n",
       "      <td>0</td>\n",
       "    </tr>\n",
       "    <tr>\n",
       "      <th>8</th>\n",
       "      <td>2</td>\n",
       "      <td>197</td>\n",
       "      <td>70</td>\n",
       "      <td>45</td>\n",
       "      <td>543</td>\n",
       "      <td>30.5</td>\n",
       "      <td>0.158</td>\n",
       "      <td>53</td>\n",
       "      <td>1</td>\n",
       "    </tr>\n",
       "    <tr>\n",
       "      <th>9</th>\n",
       "      <td>8</td>\n",
       "      <td>125</td>\n",
       "      <td>96</td>\n",
       "      <td>0</td>\n",
       "      <td>0</td>\n",
       "      <td>0.0</td>\n",
       "      <td>0.232</td>\n",
       "      <td>54</td>\n",
       "      <td>1</td>\n",
       "    </tr>\n",
       "  </tbody>\n",
       "</table>\n",
       "</div>"
      ],
      "text/plain": [
       "   pregnant  glucose  bp  skin_fold  serum_insulin   bmi  pedigree  age  label\n",
       "0         6      148  72         35              0  33.6     0.627   50      1\n",
       "1         1       85  66         29              0  26.6     0.351   31      0\n",
       "2         8      183  64          0              0  23.3     0.672   32      1\n",
       "3         1       89  66         23             94  28.1     0.167   21      0\n",
       "4         0      137  40         35            168  43.1     2.288   33      1\n",
       "5         5      116  74          0              0  25.6     0.201   30      0\n",
       "6         3       78  50         32             88  31.0     0.248   26      1\n",
       "7        10      115   0          0              0  35.3     0.134   29      0\n",
       "8         2      197  70         45            543  30.5     0.158   53      1\n",
       "9         8      125  96          0              0   0.0     0.232   54      1"
      ]
     },
     "execution_count": 8,
     "metadata": {},
     "output_type": "execute_result"
    }
   ],
   "source": [
    "url = 'https://archive.ics.uci.edu/ml/machine-learning-databases/pima-indians-diabetes/pima-indians-diabetes.data'\n",
    "col_names = ['pregnant', 'glucose', 'bp', 'skin_fold', 'serum_insulin', 'bmi', 'pedigree', 'age', 'label']\n",
    "pima_df = pd.read_csv(url, header=None, names=col_names)\n",
    "pima_df.head(10)"
   ]
  },
  {
   "cell_type": "code",
   "execution_count": 9,
   "metadata": {
    "collapsed": true
   },
   "outputs": [],
   "source": [
    "pipelines = [\n",
    "                Pipeline([\n",
    "                    ('GaussianNB', GaussianNB())                   # testing accuracy of Gaussian Naive Bayes\n",
    "                ]),\n",
    "                Pipeline([\n",
    "                    ('MultinomialNB', MultinomialNB(alpha=0.01))   # testing accuracy of Multinomial Naive Bayes\n",
    "                ]),\n",
    "                Pipeline([\n",
    "                   ('BernoulliNB', BernoulliNB(alpha=0.01))       # testing accuracy of Bernoulli Naive Bayes\n",
    "                ])        \n",
    "            ]"
   ]
  },
  {
   "cell_type": "code",
   "execution_count": 10,
   "metadata": {
    "collapsed": false
   },
   "outputs": [],
   "source": [
    "from sklearn.cross_validation import train_test_split\n",
    "\n",
    "X = pima_df.drop('label', axis = 1)\n",
    "y = pima_df['label']\n",
    "# stratified split of training and test data based on the distribution of being diabetic or not\n",
    "X_train, X_test, y_train, y_test = train_test_split(X, y, random_state=0, stratify=pima_df['label'])"
   ]
  },
  {
   "cell_type": "code",
   "execution_count": 11,
   "metadata": {
    "collapsed": false
   },
   "outputs": [],
   "source": [
    "results = []\n",
    "for pipeline in pipelines:\n",
    "\n",
    "    # Fit the classifier        \n",
    "    pipeline.fit(X_train, y_train)\n",
    "    \n",
    "    # Predict the class and probability on the test data\n",
    "    y_pred = pipeline.predict(X_test)\n",
    "    y_pred_prob = pipeline.predict_proba(X_test)[:, 1]\n",
    "    \n",
    "    #print('Metrics for %s:' % (pipeline.steps[-1][0]))\n",
    "    # compute precision and recall, or their combination (harmonic mean) F1:\n",
    "    #print(metrics.classification_report(y_test, y_pred_class))\n",
    "    \n",
    "    # first argument is true values, second argument is predicted probabilities\n",
    "    fpr, tpr, thresholds = metrics.roc_curve(y_test, y_pred_prob)\n",
    "    roc_auc = metrics.auc(fpr, tpr)\n",
    "\n",
    "    # pipeline.steps[-1][0] gives the name of the classifier from the named steps of the pipeline\n",
    "    #print('AUC for %s is %0.6f:' % (pipeline.steps[-1][0], roc_auc))\n",
    "    #plt.plot(fpr, tpr, lw=1, label='%s (AUC = %0.2f)' % (pipeline.steps[-1][0], roc_auc))\n",
    "    #return clf_descr, score, train_time, test_time\n",
    "    results.append((pipeline.steps[-1][0], y_test, y_pred, y_pred_prob, fpr, tpr, roc_auc ))"
   ]
  },
  {
   "cell_type": "code",
   "execution_count": 12,
   "metadata": {
    "collapsed": false
   },
   "outputs": [
    {
     "data": {
      "image/png": "[encoded data removed]",
      "text/plain": [
       "<matplotlib.figure.Figure at 0xa81a4e0>"
      ]
     },
     "metadata": {},
     "output_type": "display_data"
    }
   ],
   "source": [
    "# plot the ROC Curves\n",
    "plt.figure(figsize=(8,8))\n",
    "plt.xlim([-0.05, 1.05])\n",
    "plt.ylim([-0.05, 1.05])\n",
    "plt.plot([0, 1], [0, 1], '--', color=(0.6, 0.6, 0.6), label='NULL Accuracy')\n",
    "\n",
    "for clf, y_test, y_pred, y_pred_prob, fpr, tpr, roc_auc in results:\n",
    "    plt.plot(fpr, tpr, lw=1, label='%s (AUC = %0.2f)' % (clf, roc_auc))\n",
    "\n",
    "plt.title('Diabetic Classifier')\n",
    "plt.xlabel('False Positive Rate (1 - Specificity)')\n",
    "plt.ylabel('True Positive Rate (Sensitivity)')\n",
    "plt.legend(loc=\"lower right\")\n",
    "plt.grid(True)"
   ]
  },
  {
   "cell_type": "code",
   "execution_count": 13,
   "metadata": {
    "collapsed": false
   },
   "outputs": [
    {
     "name": "stdout",
     "output_type": "stream",
     "text": [
      "Metrics for GaussianNB:\n",
      "             precision    recall  f1-score   support\n",
      "\n",
      "          0       0.81      0.84      0.82       125\n",
      "          1       0.68      0.63      0.65        67\n",
      "\n",
      "avg / total       0.76      0.77      0.76       192\n",
      "\n",
      "Metrics for MultinomialNB:\n",
      "             precision    recall  f1-score   support\n",
      "\n",
      "          0       0.68      0.54      0.60       125\n",
      "          1       0.38      0.52      0.44        67\n",
      "\n",
      "avg / total       0.58      0.54      0.55       192\n",
      "\n",
      "Metrics for BernoulliNB:\n",
      "             precision    recall  f1-score   support\n",
      "\n",
      "          0       0.66      0.98      0.79       125\n",
      "          1       0.57      0.06      0.11        67\n",
      "\n",
      "avg / total       0.63      0.66      0.55       192\n",
      "\n"
     ]
    }
   ],
   "source": [
    "for clf, y_test, y_pred, y_pred_prob, fpr, tpr, roc_auc in results:\n",
    "    print('Metrics for %s:' % clf)\n",
    "    # compute precision and recall, or their combination (harmonic mean) F1:\n",
    "    print(metrics.classification_report(y_test, y_pred))"
   ]
  },
  {
   "cell_type": "markdown",
   "metadata": {},
   "source": [
    "**Conclusion:** When applying Naive Bayes classification to a dataset with **continuous features**, it is better to use Gaussian Naive Bayes than Multinomial Naive Bayes. The latter is suitable for datasets containing **discrete features** (e.g., word counts).\n",
    " \n",
    "Gaussian Naive Bayes [Gaussian Naive Bayes](https://en.wikipedia.org/wiki/Naive_Bayes_classifier#Gaussian_naive_Bayes), [example](https://en.wikipedia.org/wiki/Naive_Bayes_classifier#Sex_classification)"
   ]
  }
 ],
 "metadata": {
  "kernelspec": {
   "display_name": "Python 3",
   "language": "python",
   "name": "python3"
  },
  "language_info": {
   "codemirror_mode": {
    "name": "ipython",
    "version": 3
   },
   "file_extension": ".py",
   "mimetype": "text/x-python",
   "name": "python",
   "nbconvert_exporter": "python",
   "pygments_lexer": "ipython3",
   "version": "3.4.3"
  }
 },
 "nbformat": 4,
 "nbformat_minor": 0
}
